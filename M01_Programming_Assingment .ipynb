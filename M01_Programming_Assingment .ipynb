{
 "cells": [
  {
   "cell_type": "code",
   "execution_count": null,
   "id": "be6f4444",
   "metadata": {},
   "outputs": [],
   "source": [
    "Second = 60\n",
    "Minute = 60\n",
    "seconds_per_hour = Second * Minute \n",
    "seconds_per_day = seconds_per_hour * 24\n",
    "floating_point_result = seconds_per_day / seconds_per_hour\n",
    "integer_division_result = seconds_per_day // seconds_per_hour\n",
    "print(seconds_per_day)\n",
    "print(floating_point_result)\n",
    "print(integer_division_result)"
   ]
  }
 ],
 "metadata": {
  "kernelspec": {
   "display_name": "Python 3 (ipykernel)",
   "language": "python",
   "name": "python3"
  },
  "language_info": {
   "codemirror_mode": {
    "name": "ipython",
    "version": 3
   },
   "file_extension": ".py",
   "mimetype": "text/x-python",
   "name": "python",
   "nbconvert_exporter": "python",
   "pygments_lexer": "ipython3",
   "version": "3.11.7"
  }
 },
 "nbformat": 4,
 "nbformat_minor": 5
}
